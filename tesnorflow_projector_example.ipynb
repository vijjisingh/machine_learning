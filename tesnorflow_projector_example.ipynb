{
 "cells": [
  {
   "cell_type": "code",
   "execution_count": null,
   "metadata": {
    "scrolled": true
   },
   "outputs": [],
   "source": [
    "\n",
    "    import os\n",
    "import tensorflow as tf\n",
    "import pandas as pd\n",
    "from tensorflow.examples.tutorials.mnist import input_data\n",
    "from tensorflow.contrib.tensorboard.plugins import projector\n",
    "import numpy as np\n",
    "PATH=os.getcwd()\n",
    "print(PATH)\n",
    "LOG_DIR= PATH + '/tensorboard/mnist'\n",
    "metadata=os.path.join(LOG_DIR,\"metadata.tsv\")\n",
    "mnist=input_data.read_data_sets(PATH+\"/MNIST_data/\",one_hot=True)\n",
    "images=tf.Variable(mnist.test.images,name=\"images\")\n",
    "\n",
    "with open('metadata','w') as metadata_file:\n",
    "    for row in range(10000):\n",
    "        c=np.nonzero(mnist.test.labels[::1])[1:][0][row]\n",
    "        metadata_file.write('{}\\n'.format(c))\n",
    "        \n",
    "with tf.Session() as sess:\n",
    "    saver=tf.train.Saver([images])\n",
    "    sess.run(images.initializer)\n",
    "    saver.save(sess,os.path.join(LOG_DIR,\"images.ckpt\"))\n",
    "    config=projector.ProjectorConfig()\n",
    "    embedding=config.embeddings.add()\n",
    "    embedding.tensor_name=images.name\n",
    "    embedding.metadata_path=metadata\n",
    "    \n",
    "    projector.visualize_embeddings(tf.summary.FileWriter(LOG_DIR),config)\n",
    "    \n",
    "    \n",
    "    \n",
    "    \n",
    "    \n",
    "    \n",
    "    "
   ]
  }
 ],
 "metadata": {
  "kernelspec": {
   "display_name": "Python 3",
   "language": "python",
   "name": "python3"
  },
  "language_info": {
   "codemirror_mode": {
    "name": "ipython",
    "version": 3
   },
   "file_extension": ".py",
   "mimetype": "text/x-python",
   "name": "python",
   "nbconvert_exporter": "python",
   "pygments_lexer": "ipython3",
   "version": "3.5.3"
  }
 },
 "nbformat": 4,
 "nbformat_minor": 2
}
